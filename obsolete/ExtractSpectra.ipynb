{
 "cells": [
  {
   "cell_type": "code",
   "execution_count": 1,
   "metadata": {},
   "outputs": [],
   "source": [
    "import glob\n",
    "import os\n",
    "\n",
    "import astropy.units as u\n",
    "from astropy.table import Table, Column\n",
    "from astropy.io.votable.tree import Param,Info\n",
    "from astropy.io.votable import from_table, writeto\n",
    "import matplotlib.pyplot as plt\n",
    "import numpy as np\n",
    "\n",
    "from RadioAbsTools import cube_tools, spectrum_tools\n",
    "\n"
   ]
  },
  {
   "cell_type": "code",
   "execution_count": 2,
   "metadata": {},
   "outputs": [
    {
     "data": {
      "text/plain": [
       "['sb8906/casda/sb8906_0029-7228_sl_0.8K.fits',\n",
       " 'sb8906/casda/sb8906_0029-7228_sl_1.0K.fits',\n",
       " 'sb8906/casda/sb8906_0029-7228_sl_1.2K.fits',\n",
       " 'sb8906/casda/sb8906_0029-7228_sl_1.4K.fits',\n",
       " 'sb8906/casda/sb8906_0029-7228_sl_1.6K.fits',\n",
       " 'sb8906/casda/sb8906_0029-7228_sl_1.8K.fits',\n",
       " 'sb8906/casda/sb8906_0029-7228_sl_2.0K.fits']"
      ]
     },
     "execution_count": 2,
     "metadata": {},
     "output_type": "execute_result"
    }
   ],
   "source": [
    "folder = 'sb8906/casda/'\n",
    "file_list = glob.glob(folder + 'sb8906_0029-7228_sl_*K.fits')\n",
    "file_list.sort()\n",
    "file_list"
   ]
  },
  {
   "cell_type": "code",
   "execution_count": 3,
   "metadata": {},
   "outputs": [],
   "source": [
    "def output_spectra(velocity, opacity, flux, filename, \n",
    "                   sigma_tau):\n",
    "    \"\"\"\n",
    "    Write the spectrum (velocity, flux and opacity) to a votable format file.\n",
    "\n",
    "    :param spectrum: The spectrum to be output.\n",
    "    :param opacity:  The opacity to be output.\n",
    "    :param filename:  The filename to be created\n",
    "    :param longitude: The galactic longitude of the target object\n",
    "    :param latitude: The galactic latitude of the target object\n",
    "    \"\"\"\n",
    "    table = Table(meta={'name': filename, 'id': 'opacity'})\n",
    "    table.add_column(Column(name='velocity', data=velocity, unit='m/s'))\n",
    "    table.add_column(Column(name='opacity', data=opacity))\n",
    "    table.add_column(Column(name='flux', data=spectrum.flux, unit='Jy', description='Flux per beam'))\n",
    "    table.add_column(Column(name='sigma_opacity', data=sigma_tau, description='Noise in the absorption profile'))\n",
    "\n",
    "    votable = from_table(table)\n",
    "    writeto(votable, filename)\n",
    "\n"
   ]
  },
  {
   "cell_type": "code",
   "execution_count": 4,
   "metadata": {},
   "outputs": [],
   "source": [
    "# run agean to identify sources (or use preexisting)\n",
    "# identify continuum velocity ranges\n",
    "start_vel=(-90*u.km).to(u.m).value\n",
    "end_vel=(-30*u.km).to(u.m).value\n",
    "\n",
    "# Note that we need to make sure the beam info is set:\n",
    "# sethead BMAJ='0.0047402' BMIN='0.0040442' BPA='83.183' sb8906/casda/sb8906_0029-7228_sl_*K.fits\n",
    "\n",
    "# loop through and extract spectra for each"
   ]
  },
  {
   "cell_type": "code",
   "execution_count": 5,
   "metadata": {},
   "outputs": [
    {
     "name": "stdout",
     "output_type": "stream",
     "text": [
      "Extracting sources from 0029-7228_src_comp.vot\n",
      "Found source 1-0 at 7.4825, -72.5393 with flux 0.0016 and rms of 0.0004 giving S/N of 4.4495\n",
      "Ignoring source at 7.4825, -72.5393 due to low S/N of 4.4495 or flux of 0.0016\n",
      "Found source 2-0 at 7.0831, -72.5325 with flux 0.0077 and rms of 0.0004 giving S/N of 21.4299\n",
      "Ignoring source at 7.0831, -72.5325 due to low S/N of 21.4299 or flux of 0.0077\n",
      "Found source 3-0 at 7.3288, -72.4698 with flux 0.0881 and rms of 0.0004 giving S/N of 210.7897\n",
      "Extracting islands from 0029-7228_src_isle.vot\n",
      "Using bins 11 to 70 (velocity range -90000 to -30000) out of 494\n",
      "0.0019984378 0.0023623551\n"
     ]
    },
    {
     "name": "stderr",
     "output_type": "stream",
     "text": [
      "WARNING: FITSFixedWarning: 'obsfix' made the change 'Set OBSGEO-L to   116.658800 from OBSGEO-[XYZ].\n",
      "Set OBSGEO-B to   -26.704100 from OBSGEO-[XYZ].\n",
      "Set OBSGEO-H to      121.995 from OBSGEO-[XYZ]'. [astropy.wcs.wcs]\n",
      "WARNING: W03: ?:?:?: W03: Implicitly generating an ID from a name 'sb8906/casda/sb8906_0029-7228_sl_0.8K_spec.xml' -> 'sb8906_casda_sb8906_0029-7228_sl_0.8K_spec.xml' [astropy.io.votable.xmlutil]\n"
     ]
    },
    {
     "name": "stdout",
     "output_type": "stream",
     "text": [
      "Extracting sources from 0029-7228_src_comp.vot\n",
      "Found source 1-0 at 7.4825, -72.5393 with flux 0.0016 and rms of 0.0004 giving S/N of 4.4495\n",
      "Ignoring source at 7.4825, -72.5393 due to low S/N of 4.4495 or flux of 0.0016\n",
      "Found source 2-0 at 7.0831, -72.5325 with flux 0.0077 and rms of 0.0004 giving S/N of 21.4299\n",
      "Ignoring source at 7.0831, -72.5325 due to low S/N of 21.4299 or flux of 0.0077\n",
      "Found source 3-0 at 7.3288, -72.4698 with flux 0.0881 and rms of 0.0004 giving S/N of 210.7897\n",
      "Extracting islands from 0029-7228_src_isle.vot\n",
      "Using bins 11 to 70 (velocity range -90000 to -30000) out of 494\n",
      "0.0020002252 0.0023570436\n"
     ]
    },
    {
     "name": "stderr",
     "output_type": "stream",
     "text": [
      "WARNING: W03: ?:?:?: W03: Implicitly generating an ID from a name 'sb8906/casda/sb8906_0029-7228_sl_1.0K_spec.xml' -> 'sb8906_casda_sb8906_0029-7228_sl_1.0K_spec.xml' [astropy.io.votable.xmlutil]\n"
     ]
    },
    {
     "name": "stdout",
     "output_type": "stream",
     "text": [
      "Extracting sources from 0029-7228_src_comp.vot\n",
      "Found source 1-0 at 7.4825, -72.5393 with flux 0.0016 and rms of 0.0004 giving S/N of 4.4495\n",
      "Ignoring source at 7.4825, -72.5393 due to low S/N of 4.4495 or flux of 0.0016\n",
      "Found source 2-0 at 7.0831, -72.5325 with flux 0.0077 and rms of 0.0004 giving S/N of 21.4299\n",
      "Ignoring source at 7.0831, -72.5325 due to low S/N of 21.4299 or flux of 0.0077\n",
      "Found source 3-0 at 7.3288, -72.4698 with flux 0.0881 and rms of 0.0004 giving S/N of 210.7897\n",
      "Extracting islands from 0029-7228_src_isle.vot\n",
      "Using bins 11 to 70 (velocity range -90000 to -30000) out of 494\n",
      "0.0020002606 0.0023907118\n"
     ]
    },
    {
     "name": "stderr",
     "output_type": "stream",
     "text": [
      "WARNING: W03: ?:?:?: W03: Implicitly generating an ID from a name 'sb8906/casda/sb8906_0029-7228_sl_1.2K_spec.xml' -> 'sb8906_casda_sb8906_0029-7228_sl_1.2K_spec.xml' [astropy.io.votable.xmlutil]\n"
     ]
    },
    {
     "name": "stdout",
     "output_type": "stream",
     "text": [
      "Extracting sources from 0029-7228_src_comp.vot\n",
      "Found source 1-0 at 7.4825, -72.5393 with flux 0.0016 and rms of 0.0004 giving S/N of 4.4495\n",
      "Ignoring source at 7.4825, -72.5393 due to low S/N of 4.4495 or flux of 0.0016\n",
      "Found source 2-0 at 7.0831, -72.5325 with flux 0.0077 and rms of 0.0004 giving S/N of 21.4299\n",
      "Ignoring source at 7.0831, -72.5325 due to low S/N of 21.4299 or flux of 0.0077\n",
      "Found source 3-0 at 7.3288, -72.4698 with flux 0.0881 and rms of 0.0004 giving S/N of 210.7897\n",
      "Extracting islands from 0029-7228_src_isle.vot\n",
      "Using bins 11 to 70 (velocity range -90000 to -30000) out of 494\n",
      "0.001989125 0.00240137\n"
     ]
    },
    {
     "name": "stderr",
     "output_type": "stream",
     "text": [
      "WARNING: W03: ?:?:?: W03: Implicitly generating an ID from a name 'sb8906/casda/sb8906_0029-7228_sl_1.4K_spec.xml' -> 'sb8906_casda_sb8906_0029-7228_sl_1.4K_spec.xml' [astropy.io.votable.xmlutil]\n"
     ]
    },
    {
     "name": "stdout",
     "output_type": "stream",
     "text": [
      "Extracting sources from 0029-7228_src_comp.vot\n",
      "Found source 1-0 at 7.4825, -72.5393 with flux 0.0016 and rms of 0.0004 giving S/N of 4.4495\n",
      "Ignoring source at 7.4825, -72.5393 due to low S/N of 4.4495 or flux of 0.0016\n",
      "Found source 2-0 at 7.0831, -72.5325 with flux 0.0077 and rms of 0.0004 giving S/N of 21.4299\n",
      "Ignoring source at 7.0831, -72.5325 due to low S/N of 21.4299 or flux of 0.0077\n",
      "Found source 3-0 at 7.3288, -72.4698 with flux 0.0881 and rms of 0.0004 giving S/N of 210.7897\n",
      "Extracting islands from 0029-7228_src_isle.vot\n",
      "Using bins 11 to 70 (velocity range -90000 to -30000) out of 494\n",
      "0.0019886398 0.0023888962\n"
     ]
    },
    {
     "name": "stderr",
     "output_type": "stream",
     "text": [
      "WARNING: W03: ?:?:?: W03: Implicitly generating an ID from a name 'sb8906/casda/sb8906_0029-7228_sl_1.6K_spec.xml' -> 'sb8906_casda_sb8906_0029-7228_sl_1.6K_spec.xml' [astropy.io.votable.xmlutil]\n"
     ]
    },
    {
     "name": "stdout",
     "output_type": "stream",
     "text": [
      "Extracting sources from 0029-7228_src_comp.vot\n",
      "Found source 1-0 at 7.4825, -72.5393 with flux 0.0016 and rms of 0.0004 giving S/N of 4.4495\n",
      "Ignoring source at 7.4825, -72.5393 due to low S/N of 4.4495 or flux of 0.0016\n",
      "Found source 2-0 at 7.0831, -72.5325 with flux 0.0077 and rms of 0.0004 giving S/N of 21.4299\n",
      "Ignoring source at 7.0831, -72.5325 due to low S/N of 21.4299 or flux of 0.0077\n",
      "Found source 3-0 at 7.3288, -72.4698 with flux 0.0881 and rms of 0.0004 giving S/N of 210.7897\n",
      "Extracting islands from 0029-7228_src_isle.vot\n",
      "Using bins 11 to 70 (velocity range -90000 to -30000) out of 494\n",
      "0.0019871162 0.002391766\n"
     ]
    },
    {
     "name": "stderr",
     "output_type": "stream",
     "text": [
      "WARNING: W03: ?:?:?: W03: Implicitly generating an ID from a name 'sb8906/casda/sb8906_0029-7228_sl_1.8K_spec.xml' -> 'sb8906_casda_sb8906_0029-7228_sl_1.8K_spec.xml' [astropy.io.votable.xmlutil]\n"
     ]
    },
    {
     "name": "stdout",
     "output_type": "stream",
     "text": [
      "Extracting sources from 0029-7228_src_comp.vot\n",
      "Found source 1-0 at 7.4825, -72.5393 with flux 0.0016 and rms of 0.0004 giving S/N of 4.4495\n",
      "Ignoring source at 7.4825, -72.5393 due to low S/N of 4.4495 or flux of 0.0016\n",
      "Found source 2-0 at 7.0831, -72.5325 with flux 0.0077 and rms of 0.0004 giving S/N of 21.4299\n",
      "Ignoring source at 7.0831, -72.5325 due to low S/N of 21.4299 or flux of 0.0077\n",
      "Found source 3-0 at 7.3288, -72.4698 with flux 0.0881 and rms of 0.0004 giving S/N of 210.7897\n",
      "Extracting islands from 0029-7228_src_isle.vot\n",
      "Using bins 11 to 70 (velocity range -90000 to -30000) out of 494\n",
      "0.001972001 0.0023404656\n"
     ]
    },
    {
     "name": "stderr",
     "output_type": "stream",
     "text": [
      "WARNING: W03: ?:?:?: W03: Implicitly generating an ID from a name 'sb8906/casda/sb8906_0029-7228_sl_2.0K_spec.xml' -> 'sb8906_casda_sb8906_0029-7228_sl_2.0K_spec.xml' [astropy.io.votable.xmlutil]\n"
     ]
    }
   ],
   "source": [
    "sd_list = {}\n",
    "max_list = {}\n",
    "for name in file_list:\n",
    "    spec, source_ids, islands = cube_tools.extract_spectra(fits_filename=name, \n",
    "                      isle_filename='0029-7228_src_isle.vot', src_filename='0029-7228_src_comp.vot',\n",
    "                      continuum_start_vel=start_vel, continuum_end_vel=end_vel)\n",
    "    spectrum = list(spec.values())[0]\n",
    "    spec_mean, spec_sd = spectrum_tools.get_mean_continuum(spectrum.velocity, spectrum.flux, start_vel, end_vel)\n",
    "    sigma_tau = np.full(spectrum.velocity.shape, spec_sd)\n",
    "    print (spec_mean, np.max(spectrum.flux))\n",
    "    spectrum_tools.plot_absorption_spectrum(spectrum.velocity, spectrum.flux/spec_mean, name[:-5]+'_spec.png',\n",
    "                                           name, start_vel, end_vel, sigma_tau, range=(-100,250))\n",
    "    \n",
    "    output_spectra(spectrum.velocity, spectrum.flux/spec_mean, spectrum.flux, name[:-5]+'_spec.xml', sigma_tau)\n",
    "    #plt.plot(spectrum.velocity/1000, spectrum['flux'])\n",
    "    #plt.title(name)\n",
    "    #plt.savefig(name[:-5]+'_spec.png')\n",
    "    #plt.close()\n",
    "    sd_list[name] = spec_sd\n",
    "    max_list[name] = np.max(spectrum.flux/spec_mean)"
   ]
  },
  {
   "cell_type": "code",
   "execution_count": null,
   "metadata": {},
   "outputs": [],
   "source": [
    "print (sd_list)"
   ]
  },
  {
   "cell_type": "code",
   "execution_count": null,
   "metadata": {},
   "outputs": [],
   "source": [
    "uvdists = []\n",
    "sds = []\n",
    "maxs = []\n",
    "pref_len = len(folder)\n",
    "for key in sd_list.keys():\n",
    "    uvdist = key[pref_len+20:-6]\n",
    "    print  (uvdist)\n",
    "    uvdists.append(float(uvdist))\n",
    "    sds.append(sd_list[key])\n",
    "    maxs.append(max_list[key])\n",
    "    \n",
    "plt.scatter(uvdists, sds)\n",
    "plt.grid()\n",
    "#plt.xlim((0,3))\n",
    "#plt.ylim((0.075,0.095))\n",
    "plt.xlabel(r'Minimum baseline length (kilo-$\\lambda$ )')\n",
    "plt.ylabel(\"Optical Depth Noise\")\n",
    "plt.savefig(folder+'uv-dist-noise-compare.png')\n",
    "plt.close()\n",
    "\n",
    "plt.scatter(uvdists, maxs)\n",
    "plt.grid()\n",
    "#plt.xlim((0,3))\n",
    "#plt.ylim((0.075,0.095))\n",
    "plt.xlabel(r'Minimum baseline length (kilo-$\\lambda$ )')\n",
    "plt.ylabel(\"Maxmium Optical Depth\")\n",
    "plt.savefig(folder+'uv-dist-max-compare.png')"
   ]
  },
  {
   "cell_type": "code",
   "execution_count": null,
   "metadata": {},
   "outputs": [],
   "source": []
  }
 ],
 "metadata": {
  "kernelspec": {
   "display_name": "Python 3",
   "language": "python",
   "name": "python3"
  },
  "language_info": {
   "codemirror_mode": {
    "name": "ipython",
    "version": 3
   },
   "file_extension": ".py",
   "mimetype": "text/x-python",
   "name": "python",
   "nbconvert_exporter": "python",
   "pygments_lexer": "ipython3",
   "version": "3.6.8"
  }
 },
 "nbformat": 4,
 "nbformat_minor": 2
}
