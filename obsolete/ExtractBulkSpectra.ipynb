{
 "cells": [
  {
   "cell_type": "code",
   "execution_count": null,
   "metadata": {},
   "outputs": [],
   "source": [
    "import csv \n",
    "import glob\n",
    "import os\n",
    "\n",
    "import astropy.units as u\n",
    "from astropy.table import Table, Column\n",
    "from astropy.io import ascii\n",
    "from astropy.io.ascii import Csv\n",
    "from astropy.io.votable.tree import Param,Info\n",
    "from astropy.io.votable import from_table, writeto\n",
    "from astropy.io import fits, votable\n",
    "from astropy.wcs import WCS\n",
    "from astropy.table import QTable\n",
    "import matplotlib.pyplot as plt\n",
    "import numpy as np\n",
    "import numpy.core.records as rec\n",
    "\n",
    "from spectral_cube import SpectralCube\n",
    "import radio_beam\n",
    "import aplpy\n",
    "import astropy.units as u\n",
    "\n",
    "\n",
    "from RadioAbsTools import cube_tools, spectrum_tools\n",
    "\n"
   ]
  },
  {
   "cell_type": "markdown",
   "metadata": {},
   "source": [
    "# Extract many absorpton spectra from ASKAP SMC Data\n",
    "\n",
    "This notebook produces spectra for each cutout subcube proved for SB 8906."
   ]
  },
  {
   "cell_type": "code",
   "execution_count": null,
   "metadata": {},
   "outputs": [],
   "source": [
    "def output_spectra(velocity, opacity, flux, filename, \n",
    "                   sigma_tau):\n",
    "    \"\"\"\n",
    "    Write the spectrum (velocity, flux and opacity) to a votable format file.\n",
    "\n",
    "    :param spectrum: The spectrum to be output.\n",
    "    :param opacity:  The opacity to be output.\n",
    "    :param filename:  The filename to be created\n",
    "    :param longitude: The galactic longitude of the target object\n",
    "    :param latitude: The galactic latitude of the target object\n",
    "    \"\"\"\n",
    "    table = Table(meta={'name': filename, 'id': 'opacity'})\n",
    "    table.add_column(Column(name='velocity', data=velocity, unit='m/s'))\n",
    "    table.add_column(Column(name='opacity', data=opacity))\n",
    "    table.add_column(Column(name='flux', data=spectrum.flux, unit='Jy', description='Flux per beam'))\n",
    "    table.add_column(Column(name='sigma_opacity', data=sigma_tau, description='Noise in the absorption profile'))\n",
    "\n",
    "    votable = from_table(table)\n",
    "    writeto(votable, filename)\n",
    "\n"
   ]
  },
  {
   "cell_type": "code",
   "execution_count": null,
   "metadata": {},
   "outputs": [],
   "source": [
    "def read_targets():\n",
    "    ids=[]\n",
    "    comp_names=[]\n",
    "    ras=[]\n",
    "    decs=[]\n",
    "    beams=[]\n",
    "    i=1\n",
    "    with open('targets.csv', 'r') as csvfile:\n",
    "        tgt_reader = csv.reader(csvfile, delimiter=',',\n",
    "                                quotechar='\"', quoting=csv.QUOTE_MINIMAL)\n",
    "        for row in tgt_reader:\n",
    "            if (tgt_reader.line_num == 1):\n",
    "                # skip header\n",
    "                continue\n",
    "\n",
    "            #print (row)\n",
    "            ids.append(i)\n",
    "            comp_names.append(row[1])\n",
    "            ras.append(float(row[2]))\n",
    "            decs.append(float(row[3]))\n",
    "            beams.append(row[4:])\n",
    "\n",
    "            i+=1\n",
    "\n",
    "            \n",
    "    table = Table()\n",
    "    table.add_column(Column(name='id', data=ids))\n",
    "    table.add_column(Column(name='comp_name', data=comp_names))\n",
    "    table.add_column(Column(name='ra', data=ras))\n",
    "    table.add_column(Column(name='dec', data=decs))\n",
    "    table.add_column(Column(name='beams', data=beams))\n",
    "\n",
    "    return table\n",
    "\n"
   ]
  },
  {
   "cell_type": "code",
   "execution_count": null,
   "metadata": {},
   "outputs": [],
   "source": [
    "def plot_mom0(fname, comp_name, out_folder, src_ra, src_dec, src_maj, src_min, src_pa):\n",
    "    cube = SpectralCube.read(fname)\n",
    "    cube.beam_threshold = 0.1\n",
    "    m0 = cube.moment0().to(u.Jy*u.km/(u.beam*u.s))\n",
    "    m0.write('moment-0.fits', overwrite=True)\n",
    "\n",
    "    fig = aplpy.FITSFigure('moment-0.fits')\n",
    "    fig.show_grayscale()#pmax=100)\n",
    "    fig.add_colorbar()\n",
    "    fig.colorbar.set_axis_label_text('Brightness (Jy km / s / beam)')\n",
    "    fig.add_beam()\n",
    "    fig.set_theme('publication')\n",
    "\n",
    "    # Plot ellipse for each source\n",
    "    a_deg = src_maj*u.arcsec.to(u.deg)\n",
    "    b_deg = src_min*u.arcsec.to(u.deg)\n",
    "    fig.show_ellipses(src_ra, src_dec, a_deg, b_deg, angle=src_pa, edgecolor='red') #, \n",
    "\n",
    "    figname = '{}/{}_mom0.'.format(out_folder, comp_name)\n",
    "    fig.savefig(figname+'.pdf')\n",
    "    fig.savefig(figname+'.png')\n"
   ]
  },
  {
   "cell_type": "markdown",
   "metadata": {},
   "source": [
    "### Identify the sources that we have cutouts for"
   ]
  },
  {
   "cell_type": "code",
   "execution_count": null,
   "metadata": {},
   "outputs": [],
   "source": [
    "folder = 'sb8906/cutouts/'\n",
    "file_list = glob.glob(folder + 'J*_sl.fits')\n",
    "file_list.sort()\n",
    "len(file_list)"
   ]
  },
  {
   "cell_type": "code",
   "execution_count": null,
   "metadata": {},
   "outputs": [],
   "source": [
    "max_spectra=1000\n",
    "#targets = ascii.read('targets.csv', format='csv', quotechar='\"')\n",
    "targets = read_targets()\n",
    "targets"
   ]
  },
  {
   "cell_type": "code",
   "execution_count": null,
   "metadata": {},
   "outputs": [],
   "source": [
    "# Read and filter catalogue\n",
    "src_votable = votable.parse('AS037_Continuum_Component_Catalogue_8906_100.votable', pedantic=False)\n",
    "selavy_table = src_votable.get_first_table().to_table()\n",
    "selavy_table"
   ]
  },
  {
   "cell_type": "markdown",
   "metadata": {},
   "source": [
    "### For each cutout:\n",
    "1. Get source params from Selavy catalogue\n",
    "2. Produce moment map\n",
    "3. Produce plot of moment map with source highlighted\n",
    "4. Extract spectrum for source\n",
    "5. Classify spectrum\n",
    "6. Save to votable file"
   ]
  },
  {
   "cell_type": "code",
   "execution_count": null,
   "metadata": {},
   "outputs": [],
   "source": [
    "def get_source(file_list, target):\n",
    "    \n",
    "    fname = '{}{}_sl.fits'.format(folder, tgt['comp_name'])\n",
    "    if not fname in file_list:\n",
    "        return None\n",
    "    \n",
    "    comp_cat_row= selavy_table[selavy_table['component_name']==target['comp_name']][0]\n",
    "    src = {'ra':comp_cat_row['ra_deg_cont'], 'dec':comp_cat_row['dec_deg_cont'], \n",
    "           'a':comp_cat_row['maj_axis'], 'b':comp_cat_row['min_axis'], 'pa': comp_cat_row['pos_ang'],\n",
    "          'comp_name': target['comp_name'], 'fname': fname, 'flux_peak': comp_cat_row['flux_peak']}\n",
    "    return src\n",
    "    "
   ]
  },
  {
   "cell_type": "code",
   "execution_count": null,
   "metadata": {},
   "outputs": [],
   "source": [
    "def save_spectrum(velocity, opacity, flux, filename, \n",
    "                   sigma_tau):\n",
    "    \"\"\"\n",
    "    Write the spectrum (velocity, flux and opacity) to a votable format file.\n",
    "\n",
    "    :param spectrum: The spectrum to be output.\n",
    "    :param opacity:  The opacity to be output.\n",
    "    :param filename:  The filename to be created\n",
    "    :param longitude: The galactic longitude of the target object\n",
    "    :param latitude: The galactic latitude of the target object\n",
    "    \"\"\"\n",
    "    table = Table(meta={'name': filename, 'id': 'opacity'})\n",
    "    table.add_column(Column(name='velocity', data=velocity, unit='m/s'))\n",
    "    table.add_column(Column(name='opacity', data=opacity))\n",
    "    table.add_column(Column(name='flux', data=flux, unit='Jy', description='Flux per beam'))\n",
    "    table.add_column(Column(name='sigma_opacity', data=sigma_tau, description='Noise in the absorption profile'))\n",
    "\n",
    "    votable = from_table(table)\n",
    "    writeto(votable, filename)\n",
    "\n",
    "\n"
   ]
  },
  {
   "cell_type": "code",
   "execution_count": null,
   "metadata": {},
   "outputs": [],
   "source": [
    "def extract_spectrum(fname, src, continuum_start_vel, continuum_end_vel, num_edge_chan=10):\n",
    "\n",
    "    hdulist = fits.open(fname)\n",
    "    image = hdulist[0].data\n",
    "    header = hdulist[0].header\n",
    "    w = WCS(header)\n",
    "    index = np.arange(header['NAXIS3'])\n",
    "    velocities = w.wcs_pix2world(10,10,index[:],0,0)[2]\n",
    "\n",
    "    img_slice = cube_tools.get_integrated_spectrum(image, w, src, velocities, continuum_start_vel, continuum_end_vel, radius=6)\n",
    "\n",
    "    l_edge, r_edge = cube_tools.find_edges(img_slice, num_edge_chan)\n",
    "\n",
    "    spectrum_array = rec.fromarrays(\n",
    "        [np.arange(img_slice.size)[l_edge:r_edge],\n",
    "         velocities[l_edge:r_edge],\n",
    "         img_slice[l_edge:r_edge]],\n",
    "        names='plane,velocity,flux')\n",
    "\n",
    "    del image\n",
    "    del header\n",
    "    hdulist.close()\n",
    "\n",
    "    return spectrum_array\n",
    "\n",
    "def output_spectrum(spec_folder, src, spectrum_array, opacity, sigma_opacity):\n",
    "    filename = '{}/{}_spec'.format(spec_folder, src['comp_name'])\n",
    "\n",
    "    save_spectra(spectrum_array.velocity, opacity, spectrum_array.flux, filename+'.vot', sigma_opacity)\n",
    "    spectrum_tools.plot_absorption_spectrum(spectrum_array.velocity, opacity, filename+'.png', tgt['comp_name'], continuum_start_vel, continuum_end_vel, sigma_opacity, range=None)\n",
    "    spectrum_tools.plot_absorption_spectrum(spectrum_array.velocity, opacity, filename+'_zoom.png', tgt['comp_name'], continuum_start_vel, continuum_end_vel, sigma_opacity, range=(75,275))\n",
    "\n",
    "\n"
   ]
  },
  {
   "cell_type": "code",
   "execution_count": null,
   "metadata": {},
   "outputs": [],
   "source": [
    "\n",
    "src_table = QTable(names=('id', 'comp_name', 'ra', 'dec', 'rating', 'flux_peak', 'mean_cont', 'sd_cont', 'opacity_range', 'max_s_max_n'),\n",
    "           dtype=('int', 'U32', 'float64', 'float64', 'str', 'float64', 'float64', 'float64', 'float64', 'float64'),\n",
    "            meta={'name': 'ASKAP SMC Spectra'})\n",
    "\n",
    "print('Processing {} cutouts into spectra'.format(len(targets)))\n",
    "\n",
    "max_spectra = 500\n",
    "i = 0\n",
    "for tgt in targets:\n",
    "    src = get_source(file_list, tgt)\n",
    "    if not src:\n",
    "        print('Skipping missing src #{} {}'.format(tgt['id'], tgt['comp_name']))\n",
    "        continue\n",
    "    i+=1\n",
    "    if i > max_spectra:\n",
    "        print (\"Reaching maximum spectra for this run\")\n",
    "        break\n",
    "        \n",
    "    print('\\nExtracting spectrum for src #{} {}'.format(tgt['id'], tgt['comp_name']))\n",
    "\n",
    "    plot_mom0(src['fname'], tgt['comp_name'], 'sb8906/figures', src['ra'], src['dec'], \n",
    "              src['a'], src['b'], src['pa'])\n",
    "    \n",
    "    continuum_start_vel = -100*u.km.to(u.m)\n",
    "    continuum_end_vel = -60*u.km.to(u.m)\n",
    "    spectrum = extract_spectrum(src['fname'], src, continuum_start_vel, continuum_end_vel)\n",
    "    \n",
    "    mean_cont, sd_cont = spectrum_tools.get_mean_continuum(spectrum.velocity, spectrum.flux, continuum_start_vel, continuum_end_vel)\n",
    "    opacity = spectrum.flux/mean_cont\n",
    "    sigma_opacity = sd_cont*np.ones(spectrum.velocity.shape)\n",
    "    rating, opacity_range, max_s_max_n = spectrum_tools.rate_spectrum(opacity, sd_cont)\n",
    "\n",
    "    output_spectrum('sb8906/spectra', src, spectrum, opacity, sigma_opacity)\n",
    "    \n",
    "    src_table.add_row([tgt['id'], tgt['comp_name'], src['ra']*u.deg, src['dec']*u.deg, \n",
    "                       rating, src['flux_peak']*u.Jy, mean_cont*u.Jy, sd_cont, opacity_range, max_s_max_n])\n",
    "    \n",
    "               \n",
    "                                "
   ]
  },
  {
   "cell_type": "code",
   "execution_count": null,
   "metadata": {},
   "outputs": [],
   "source": [
    "srcvotable = from_table(src_table)\n",
    "writeto(srcvotable, 'askap_spectra.vot')\n"
   ]
  },
  {
   "cell_type": "markdown",
   "metadata": {},
   "source": [
    "## Scratch area"
   ]
  },
  {
   "cell_type": "code",
   "execution_count": null,
   "metadata": {},
   "outputs": [],
   "source": [
    "tgt = targets[0]\n",
    "fname = '{}{}_sl.fits'.format(folder, tgt['comp_name'])\n",
    "\n",
    "comp_cat_row= selavy_table[selavy_table['component_name']==tgt['comp_name']][0]\n",
    "comp_cat_row\n",
    "src_ra = comp_cat_row['ra_deg_cont']\n",
    "src_dec = comp_cat_row['dec_deg_cont']\n",
    "src_maj = comp_cat_row['maj_axis']\n",
    "src_min = comp_cat_row['min_axis']\n",
    "src_pa = comp_cat_row['pos_ang']\n",
    "print ('Component at RA {:.4f} Dec {:.4f} is {:.2f}x{:.2f} arcsec at angle {:.1f} deg'.format(src_ra, src_dec, src_maj, src_min, src_pa))"
   ]
  },
  {
   "cell_type": "code",
   "execution_count": null,
   "metadata": {},
   "outputs": [],
   "source": [
    "plot_mom0(fname, tgt['comp_name'], 'sb8906/figures', src_ra, src_dec, src_maj, src_min, src_pa)"
   ]
  },
  {
   "cell_type": "code",
   "execution_count": null,
   "metadata": {},
   "outputs": [],
   "source": [
    "src = {'ra':src_ra, 'dec':src_dec, 'a':src_maj, 'b':src_min, 'pa': src_pa}\n",
    "\n",
    "hdulist = fits.open(fname)\n",
    "image = hdulist[0].data\n",
    "header = hdulist[0].header\n",
    "w = WCS(header)\n",
    "index = np.arange(header['NAXIS3'])\n",
    "#beam_maj = header['BMAJ'] * 60 * 60\n",
    "#beam_min = header['BMIN'] * 60 * 60\n",
    "#beam_area = math.radians(header['BMAJ']) * math.radians(header['BMIN'])\n",
    "velocities = w.wcs_pix2world(10,10,index[:],0,0)[2]\n",
    "continuum_start_vel = -100*u.km.to(u.m)\n",
    "continuum_end_vel = -60*u.km.to(u.m)\n",
    "num_edge_chan = 10\n",
    "\n",
    "#c = SkyCoord(src_ra, src_dec, frame='icrs', unit=\"deg\")\n",
    "\n",
    "img_slice = cube_tools.get_integrated_spectrum(image, w, src, velocities, continuum_start_vel, continuum_end_vel, radius=6)\n",
    "\n",
    "l_edge, r_edge = cube_tools.find_edges(img_slice, num_edge_chan)\n",
    "# print(\"Using data range %d - %d out of %d channels.\" % (\n",
    "#    l_edge, r_edge, len(img_slice)))\n",
    "\n",
    "# plotSpectrum(np.arange(slice.size), slice)\n",
    "spectrum_array = rec.fromarrays(\n",
    "    [np.arange(img_slice.size)[l_edge:r_edge],\n",
    "     velocities[l_edge:r_edge],\n",
    "     img_slice[l_edge:r_edge]],\n",
    "    names='plane,velocity,flux')\n"
   ]
  },
  {
   "cell_type": "code",
   "execution_count": null,
   "metadata": {},
   "outputs": [],
   "source": [
    "spec_folder = 'sb8906/spectra'\n",
    "filename = '{}/{}_spec'.format(spec_folder, tgt['comp_name'])\n",
    "mean_cont, sd_cont = spectrum_tools.get_mean_continuum(spectrum_array.velocity, spectrum_array.flux, continuum_start_vel, continuum_end_vel)\n",
    "opacity = spectrum_array.flux/mean_cont\n",
    "sigma_tau = sd_cont*np.ones(spectrum_array.velocity.shape)\n",
    "\n",
    "save_spectra(spectrum_array.velocity, opacity, spectrum_array.flux, filename+'.vot', sigma_tau)\n",
    "#plt.plot(spectrum_array.flux)\n",
    "spectrum_tools.plot_absorption_spectrum(spectrum_array.velocity, opacity, filename+'.png', tgt['comp_name'], continuum_start_vel, continuum_end_vel, sigma_tau, range=None)\n",
    "spectrum_tools.plot_absorption_spectrum(spectrum_array.velocity, opacity, filename+'_zoom.png', tgt['comp_name'], continuum_start_vel, continuum_end_vel, sigma_tau, range=(75,275))\n",
    "rating, opacity_range, max_s_max_n = spectrum_tools.rate_spectrum(opacity, sd_cont)\n",
    "print ('Source {} rating: {} range:{:.2f}'.format(tgt['comp_name'], rating,opacity_range ) )"
   ]
  },
  {
   "cell_type": "code",
   "execution_count": null,
   "metadata": {},
   "outputs": [],
   "source": [
    "src_table = QTable(names=('id', 'comp_name', 'ra', 'dec', 'rating', 'mean_cont', 'sd_cont'),\n",
    "           dtype=('int', 'U32', 'float64', 'float64', 'str', 'float64', 'float64'),\n",
    "            meta={'name': 'ASKAP SMC Spectra'})\n",
    "#t['comp_name'].length = 32\n",
    "src_table.add_row([tgt['id'], tgt['comp_name'], src_ra*u.deg, src_dec*u.deg, rating, mean_cont*u.Jy, sd_cont])"
   ]
  },
  {
   "cell_type": "code",
   "execution_count": null,
   "metadata": {},
   "outputs": [],
   "source": []
  },
  {
   "cell_type": "code",
   "execution_count": null,
   "metadata": {},
   "outputs": [],
   "source": [
    "good_beams = cube.identify_bad_beams(threshold=0.01)\n",
    "good_beams"
   ]
  },
  {
   "cell_type": "code",
   "execution_count": null,
   "metadata": {},
   "outputs": [],
   "source": [
    "#cube = SpectralCube.read(fname)\n",
    "#print(cube)\n",
    "#print (cube.beams)\n",
    "m0 = cube.moment0().to(u.Jy*u.km/(u.beam*u.s))\n",
    "print(m0)\n",
    "m0.write('moment-0.fits', overwrite=True)\n",
    "img_size = m0.shape\n",
    "\n",
    "fig = aplpy.FITSFigure('moment-0.fits')\n",
    "center_coord = fig.pixel2world(xp=img_size[0]/2, yp=img_size[1]/2)\n",
    "#fig.recenter(center_coord[0], center_coord[1], radius=2*u.arcmin.to(u.deg))  # degrees\n",
    "#fig.show_grayscale(stretch='log', vmin=0, vmid=-0.1)\n",
    "fig.show_grayscale()#pmax=100)\n",
    "fig.add_colorbar()\n",
    "fig.colorbar.set_axis_label_text('Brightness (Jy km / s)')\n",
    "fig.add_beam()\n",
    "fig.set_theme('publication')\n",
    "\n",
    "# Plot ellipse for each source\n",
    "a_deg = src_maj*u.arcsec.to(u.deg)\n",
    "b_deg = src_min*u.arcsec.to(u.deg)\n",
    "fig.show_ellipses(src_ra, src_dec, a_deg, b_deg, angle=src_pa, edgecolor='red') #, \n",
    "\n",
    "figname = 'sb8906/figures/{}_mom0.'.format(tgt['comp_name'])\n",
    "fig.savefig(figname+'.pdf')\n",
    "fig.savefig(figname+'.png')\n"
   ]
  },
  {
   "cell_type": "code",
   "execution_count": null,
   "metadata": {},
   "outputs": [],
   "source": [
    "# run agean to identify sources (or use preexisting)\n",
    "# identify continuum velocity ranges\n",
    "start_vel=(-90*u.km).to(u.m).value\n",
    "end_vel=(-30*u.km).to(u.m).value\n",
    "\n",
    "# Note that we need to make sure the beam info is set:\n",
    "# sethead BMAJ='0.0047402' BMIN='0.0040442' BPA='83.183' sb8906/casda/sb8906_0029-7228_sl_*K.fits\n",
    "\n",
    "# loop through and extract spectra for each"
   ]
  },
  {
   "cell_type": "code",
   "execution_count": null,
   "metadata": {},
   "outputs": [],
   "source": [
    "sd_list = {}\n",
    "max_list = {}\n",
    "for name in file_list:\n",
    "    spec, source_ids, islands = cube_tools.extract_spectra(fits_filename=name, \n",
    "                      isle_filename='0029-7228_src_isle.vot', src_filename='0029-7228_src_comp.vot',\n",
    "                      continuum_start_vel=start_vel, continuum_end_vel=end_vel)\n",
    "    spectrum = list(spec.values())[0]\n",
    "    spec_mean, spec_sd = spectrum_tools.get_mean_continuum(spectrum.velocity, spectrum.flux, start_vel, end_vel)\n",
    "    sigma_tau = np.full(spectrum.velocity.shape, spec_sd)\n",
    "    print (spec_mean, np.max(spectrum.flux))\n",
    "    spectrum_tools.plot_absorption_spectrum(spectrum.velocity, spectrum.flux/spec_mean, name[:-5]+'_spec.png',\n",
    "                                           name, start_vel, end_vel, sigma_tau, range=(-100,250))\n",
    "    \n",
    "    output_spectra(spectrum.velocity, spectrum.flux/spec_mean, spectrum.flux, name[:-5]+'_spec.xml', sigma_tau)\n",
    "    #plt.plot(spectrum.velocity/1000, spectrum['flux'])\n",
    "    #plt.title(name)\n",
    "    #plt.savefig(name[:-5]+'_spec.png')\n",
    "    #plt.close()\n",
    "    sd_list[name] = spec_sd\n",
    "    max_list[name] = np.max(spectrum.flux/spec_mean)"
   ]
  },
  {
   "cell_type": "code",
   "execution_count": null,
   "metadata": {},
   "outputs": [],
   "source": [
    "print (sd_list)"
   ]
  },
  {
   "cell_type": "code",
   "execution_count": null,
   "metadata": {},
   "outputs": [],
   "source": []
  }
 ],
 "metadata": {
  "kernelspec": {
   "display_name": "Python 3",
   "language": "python",
   "name": "python3"
  },
  "language_info": {
   "codemirror_mode": {
    "name": "ipython",
    "version": 3
   },
   "file_extension": ".py",
   "mimetype": "text/x-python",
   "name": "python",
   "nbconvert_exporter": "python",
   "pygments_lexer": "ipython3",
   "version": "3.6.8"
  }
 },
 "nbformat": 4,
 "nbformat_minor": 2
}
