{
 "cells": [
  {
   "cell_type": "code",
   "execution_count": 153,
   "metadata": {},
   "outputs": [],
   "source": [
    "from astropy.io import votable\n",
    "import numpy as np"
   ]
  },
  {
   "cell_type": "markdown",
   "metadata": {},
   "source": [
    "# Produce a preview page for all spectra of each rating"
   ]
  },
  {
   "cell_type": "code",
   "execution_count": 154,
   "metadata": {},
   "outputs": [],
   "source": [
    "def __output_header(f, title):\n",
    "    f.write('<!doctype html>\\n<html lang=\"en\">\\n<head>\\n<title>{}</title>'.format(title))\n",
    "    with open('style.html') as style:\n",
    "        f.write(style.read())\n",
    "    f.write('\\n</head>\\n<body>\\n<h1 align=\"middle\">{}</h1>'.format(title))\n",
    "    f.write('\\n<table class=\"imageTable\">')\n",
    "    return\n",
    "\n",
    "def __output_row(f, comp_names, num_cols=5):\n",
    "    f.write('\\n<tr>')\n",
    "    i = 0\n",
    "    for name in comp_names:\n",
    "        i+=1\n",
    "        f.write('\\n<td>')\n",
    "        f.write('<a href=\"spectra/{0}_spec.png\"><img src=\"spectra/{0}_spec_zoom.png\"></a>'\n",
    "                .format(name))\n",
    "        f.write('</td>')\n",
    "\n",
    "    while i < num_cols:\n",
    "        i+=1\n",
    "        f.write('\\n<td/>')\n",
    "    return\n",
    "\n",
    "def __output_footer(f):\n",
    "    f.write('\\n\\n</table>\\n</body>\\n</html>')\n",
    "    return\n"
   ]
  },
  {
   "cell_type": "code",
   "execution_count": 171,
   "metadata": {},
   "outputs": [],
   "source": [
    "def output_header(f, title):\n",
    "    f.write('<!doctype html>\\n<html lang=\"en\">\\n<head>\\n<title>{}</title>'.format(title))\n",
    "    with open('style.html') as style:\n",
    "        f.write(style.read())\n",
    "    f.write('\\n</head>\\n<body>')\n",
    "    f.write('\\n<div class=\"container-fluid\">')\n",
    "    f.write('\\n<h1 align=\"middle\">{}</h1>'.format(title))\n",
    "    return\n",
    "\n",
    "def output_block_title(f, rating, first, count):\n",
    "    if not first:\n",
    "        f.write('\\n\\n</div><br/>\\n')\n",
    "    spec = 'spectrum' if count == 1 else 'spectra'\n",
    "    f.write('\\n<div>')\n",
    "    f.write('\\n<div class=\"col-9 d-inline\"><h2 class=\"d-inline font-weight-light text-center text-lg-left mt-4 mb-0\">{} Rating {} {}</h2></div>'.format(count, rating, spec))\n",
    "    f.write('\\n<div class=\"col-3 pull-right d-inline\"><a class=\"btn btn-primary\" data-toggle=\"collapse\" href=\"#spectra{0}\" role=\"button\" aria-expanded=\"false\" aria-controls=\"spectra{0}\" style=\"font-size: x-small;\">Toggle</a></div>'.format(rating))\n",
    "    f.write('\\n</div>')\n",
    "    f.write('\\n<div class=\"row text-center text-lg-left collapse show\" id=\"spectra{}\">'.format(rating))\n",
    "\n",
    "    \n",
    "def output_img(f, comp_name, rating):\n",
    "    f.write('\\n<div class=\"col-lg-3 col-md-4 col-6 px-2\">')\n",
    "    f.write('\\n<a href=\"spectra/{0}_spec.png\" class=\"d-block mb-4 h-100\"  data-lightbox=\"rating{1}\">'.format(comp_name, rating))\n",
    "    f.write('\\n<img class=\"img-fluid img-thumbnail\" ')\n",
    "    f.write('src=\"spectra/{0}_spec_zoom.png\" alt=\"Zoomed preview of spectrum at {0}\">'.format(comp_name))\n",
    "    f.write('\\n</a>\\n</div>')\n",
    "    return\n",
    "\n",
    "def output_footer(f):\n",
    "    f.write('\\n\\n</div>\\n</div>\\n</body>\\n</html>')\n",
    "    return\n",
    "\n"
   ]
  },
  {
   "cell_type": "code",
   "execution_count": 172,
   "metadata": {},
   "outputs": [
    {
     "name": "stdout",
     "output_type": "stream",
     "text": [
      "Rating A has 12 spectra\n",
      "Rating B has 175 spectra\n",
      "Rating C has 76 spectra\n",
      "Rating D has 65 spectra\n",
      "Rating E has 0 spectra\n",
      "Rating F has 0 spectra\n"
     ]
    }
   ],
   "source": [
    "spectra_votable = votable.parse('askap_spectra.vot', pedantic=False)\n",
    "table = spectra_votable.get_first_table().to_table()\n",
    "\n",
    "with open('sb8906/index.html'.format(rating), 'w') as f:\n",
    "    output_header(f, 'Absorption spectra for SBID 8906')\n",
    "\n",
    "    for rating in 'ABCDEF':\n",
    "        targets = table[table['rating']==rating]\n",
    "        comp_names = sorted(targets['comp_name'])\n",
    "        print('Rating {} has {} spectra'.format(rating, len(comp_names)))\n",
    "\n",
    "        output_block_title(f, rating, rating=='A', len(comp_names))\n",
    "\n",
    "        for name in comp_names:\n",
    "            output_img(f, name, rating)\n",
    "                \n",
    "    output_footer(f)\n",
    "        \n"
   ]
  },
  {
   "cell_type": "code",
   "execution_count": 157,
   "metadata": {},
   "outputs": [
    {
     "name": "stdout",
     "output_type": "stream",
     "text": [
      "Rating A has 12 spectra\n",
      "Rating B has 86 spectra\n",
      "Rating C has 47 spectra\n",
      "Rating D has 18 spectra\n",
      "Rating E has 0 spectra\n",
      "Rating F has 0 spectra\n"
     ]
    }
   ],
   "source": [
    "spectra_votable = votable.parse('askap_spectra.vot', pedantic=False)\n",
    "table = spectra_votable.get_first_table().to_table()\n",
    "\n",
    "with open('sb8906/detections.html'.format(rating), 'w') as f:\n",
    "    output_header(f, 'Absorption spectra for SBID 8906 with 3.5σ candidate detections')\n",
    "\n",
    "    for rating in 'ABCDEF':\n",
    "        targets = table[table['rating']==rating]\n",
    "        targets = targets[(1-targets['min_opacity'])/targets['sd_cont'] > 3.5]\n",
    "        comp_names = sorted(targets['comp_name'])\n",
    "        print('Rating {} has {} spectra'.format(rating, len(comp_names)))\n",
    "\n",
    "        output_block_title(f, rating, rating=='A', len(comp_names))\n",
    "\n",
    "        for name in comp_names:\n",
    "            output_img(f, name, rating)\n",
    "                \n",
    "    output_footer(f)\n",
    "        \n",
    "\n"
   ]
  },
  {
   "cell_type": "code",
   "execution_count": 158,
   "metadata": {},
   "outputs": [
    {
     "name": "stdout",
     "output_type": "stream",
     "text": [
      "Rating A has 12 spectra\n",
      "Rating B has 30 spectra\n",
      "Rating C has 12 spectra\n",
      "Rating D has 1 spectra\n",
      "Rating E has 0 spectra\n",
      "Rating F has 0 spectra\n"
     ]
    }
   ],
   "source": [
    "spectra_votable = votable.parse('askap_spectra.vot', pedantic=False)\n",
    "table = spectra_votable.get_first_table().to_table()\n",
    "\n",
    "with open('sb8906/best.html'.format(rating), 'w') as f:\n",
    "    output_header(f, 'Absorption spectra for SBID 8906 with 5σ candidate detections')\n",
    "\n",
    "    for rating in 'ABCDEF':\n",
    "        targets = table[table['rating']==rating]\n",
    "        targets = targets[(1-targets['min_opacity'])/targets['sd_cont'] > 5]\n",
    "        comp_names = sorted(targets['comp_name'])\n",
    "        print('Rating {} has {} spectra'.format(rating, len(comp_names)))\n",
    "\n",
    "        output_block_title(f, rating, rating=='A', len(comp_names))\n",
    "\n",
    "        for name in comp_names:\n",
    "            output_img(f, name, rating)\n",
    "                \n",
    "    output_footer(f)\n",
    "        \n",
    "\n",
    "\n"
   ]
  },
  {
   "cell_type": "code",
   "execution_count": 159,
   "metadata": {},
   "outputs": [],
   "source": [
    "def output_j19_img(f, comp_name, rating):\n",
    "    f.write('\\n<div class=\"col-4\">')\n",
    "    f.write('\\n<a href=\"spectra/{0}_spec.png\" class=\"d-block mb-4 h-100\"  data-lightbox=\"rating{1}\">'.format(comp_name, rating))\n",
    "    f.write('\\n<img class=\"img-fluid img-thumbnail\" ')\n",
    "    f.write('src=\"spectra/{0}_spec_zoom.png\" alt=\"Zoomed preview of spectrum at {0}\">'.format(comp_name))\n",
    "    f.write('\\n</a>\\n</div>')\n",
    "    f.write('\\n<div class=\"col-8\">')\n",
    "    f.write('\\n<a href=\"jameson19plots/{0}.jpg\" class=\"d-block mb-4 h-100\"  data-lightbox=\"rating{1}\">'.format(comp_name, rating))\n",
    "    f.write('\\n<img class=\"img-fluid img-thumbnail\" ')\n",
    "    f.write('src=\"jameson19plots/{0}.jpg\" alt=\"Zoomed preview of spectrum at {0}\">'.format(comp_name))\n",
    "    f.write('\\n</a>\\n</div>')\n",
    "\n",
    "    return\n",
    "\n"
   ]
  },
  {
   "cell_type": "code",
   "execution_count": 160,
   "metadata": {},
   "outputs": [],
   "source": [
    "crossmatch = ['J010029-713825', 'J003809-735023', 'J012639-731501', 'J012350-735041', 'J011132-730209', \n",
    "              'J005611-710707', 'J011005-722648', 'J012930-733310', 'J013243-734413', 'J011919-710522', \n",
    "              'J011917-710537', 'J012924-733152', 'J012629-732714', 'J013032-731740', 'J005820-713039',\n",
    "              'J010919-725600', 'J004808-741205', 'J004956-723553', 'J005337-723143', 'J005557-722604', \n",
    "              'J010931-713454', 'J011056-731403', 'J011432-732142', 'J013147-734941', 'J003947-713734',\n",
    "              'J005238-731244', 'J003824-742211', 'J003939-714141', 'J011629-731438']\n",
    "\n",
    "#targets = table[table['comp_name'] in crossmatch]\n",
    "#targets\n",
    "mask = np.isin(table['comp_name'], crossmatch)\n",
    "targets = table[mask]\n",
    "comp_names = sorted(targets['comp_name'])\n",
    "comp_names\n",
    "#with open('sb8906/best.html'.format(rating), 'w') as f:\n",
    "#    output_header(f, 'Absorption spectra for SBID 8906 with 5σ candidate detections')\n",
    "\n",
    "with open('sb8906/j19.html'.format(rating), 'w') as f:\n",
    "    output_header(f, 'Absorption spectra for SBID 8906 also in Jameson 19')\n",
    "\n",
    "    for rating in 'ABCDEF':\n",
    "        targets = table[table['rating']==rating]\n",
    "        mask = np.isin(targets['comp_name'], crossmatch)\n",
    "        targets = targets[mask]\n",
    "        comp_names = sorted(targets['comp_name'])\n",
    "\n",
    "        output_block_title(f, rating, rating=='A', len(comp_names))\n",
    "\n",
    "        for name in comp_names:\n",
    "            output_j19_img(f, name, rating)\n",
    "                \n",
    "    output_footer(f)\n",
    "\n",
    "\n"
   ]
  },
  {
   "cell_type": "code",
   "execution_count": null,
   "metadata": {},
   "outputs": [],
   "source": []
  }
 ],
 "metadata": {
  "kernelspec": {
   "display_name": "Python 3",
   "language": "python",
   "name": "python3"
  },
  "language_info": {
   "codemirror_mode": {
    "name": "ipython",
    "version": 3
   },
   "file_extension": ".py",
   "mimetype": "text/x-python",
   "name": "python",
   "nbconvert_exporter": "python",
   "pygments_lexer": "ipython3",
   "version": "3.6.8"
  }
 },
 "nbformat": 4,
 "nbformat_minor": 2
}
